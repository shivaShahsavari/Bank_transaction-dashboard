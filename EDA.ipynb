{
 "cells": [
  {
   "cell_type": "markdown",
   "metadata": {},
   "source": [
    "# EDA"
   ]
  },
  {
   "cell_type": "code",
   "execution_count": 1,
   "metadata": {},
   "outputs": [],
   "source": [
    "import pandas as pd\n",
    "import numpy as np"
   ]
  },
  {
   "cell_type": "code",
   "execution_count": 2,
   "metadata": {},
   "outputs": [
    {
     "data": {
      "text/html": [
       "<div>\n",
       "<style scoped>\n",
       "    .dataframe tbody tr th:only-of-type {\n",
       "        vertical-align: middle;\n",
       "    }\n",
       "\n",
       "    .dataframe tbody tr th {\n",
       "        vertical-align: top;\n",
       "    }\n",
       "\n",
       "    .dataframe thead th {\n",
       "        text-align: right;\n",
       "    }\n",
       "</style>\n",
       "<table border=\"1\" class=\"dataframe\">\n",
       "  <thead>\n",
       "    <tr style=\"text-align: right;\">\n",
       "      <th></th>\n",
       "      <th>Unnamed: 0</th>\n",
       "      <th>date_tech</th>\n",
       "      <th>boeking_eur</th>\n",
       "      <th>is_blacklist</th>\n",
       "      <th>is_redlist</th>\n",
       "      <th>is_whitelist</th>\n",
       "      <th>a_key</th>\n",
       "      <th>b_key</th>\n",
       "    </tr>\n",
       "  </thead>\n",
       "  <tbody>\n",
       "    <tr>\n",
       "      <th>count</th>\n",
       "      <td>2.198265e+06</td>\n",
       "      <td>2198265</td>\n",
       "      <td>2.198265e+06</td>\n",
       "      <td>2198265</td>\n",
       "      <td>2198265</td>\n",
       "      <td>2198265</td>\n",
       "      <td>2198265</td>\n",
       "      <td>2198265</td>\n",
       "    </tr>\n",
       "    <tr>\n",
       "      <th>unique</th>\n",
       "      <td>NaN</td>\n",
       "      <td>794</td>\n",
       "      <td>NaN</td>\n",
       "      <td>2</td>\n",
       "      <td>2</td>\n",
       "      <td>2</td>\n",
       "      <td>49838</td>\n",
       "      <td>418236</td>\n",
       "    </tr>\n",
       "    <tr>\n",
       "      <th>top</th>\n",
       "      <td>NaN</td>\n",
       "      <td>2019-10-28 00:00:00.000</td>\n",
       "      <td>NaN</td>\n",
       "      <td>False</td>\n",
       "      <td>False</td>\n",
       "      <td>False</td>\n",
       "      <td>A40734</td>\n",
       "      <td>B401552</td>\n",
       "    </tr>\n",
       "    <tr>\n",
       "      <th>freq</th>\n",
       "      <td>NaN</td>\n",
       "      <td>88343</td>\n",
       "      <td>NaN</td>\n",
       "      <td>2180140</td>\n",
       "      <td>2197961</td>\n",
       "      <td>2198255</td>\n",
       "      <td>32539</td>\n",
       "      <td>81923</td>\n",
       "    </tr>\n",
       "    <tr>\n",
       "      <th>mean</th>\n",
       "      <td>1.099132e+06</td>\n",
       "      <td>NaN</td>\n",
       "      <td>6.018905e+01</td>\n",
       "      <td>NaN</td>\n",
       "      <td>NaN</td>\n",
       "      <td>NaN</td>\n",
       "      <td>NaN</td>\n",
       "      <td>NaN</td>\n",
       "    </tr>\n",
       "    <tr>\n",
       "      <th>std</th>\n",
       "      <td>6.345846e+05</td>\n",
       "      <td>NaN</td>\n",
       "      <td>1.707733e+05</td>\n",
       "      <td>NaN</td>\n",
       "      <td>NaN</td>\n",
       "      <td>NaN</td>\n",
       "      <td>NaN</td>\n",
       "      <td>NaN</td>\n",
       "    </tr>\n",
       "    <tr>\n",
       "      <th>min</th>\n",
       "      <td>0.000000e+00</td>\n",
       "      <td>NaN</td>\n",
       "      <td>-4.566600e+07</td>\n",
       "      <td>NaN</td>\n",
       "      <td>NaN</td>\n",
       "      <td>NaN</td>\n",
       "      <td>NaN</td>\n",
       "      <td>NaN</td>\n",
       "    </tr>\n",
       "    <tr>\n",
       "      <th>25%</th>\n",
       "      <td>5.495660e+05</td>\n",
       "      <td>NaN</td>\n",
       "      <td>-2.102400e+02</td>\n",
       "      <td>NaN</td>\n",
       "      <td>NaN</td>\n",
       "      <td>NaN</td>\n",
       "      <td>NaN</td>\n",
       "      <td>NaN</td>\n",
       "    </tr>\n",
       "    <tr>\n",
       "      <th>50%</th>\n",
       "      <td>1.099132e+06</td>\n",
       "      <td>NaN</td>\n",
       "      <td>-2.409000e+01</td>\n",
       "      <td>NaN</td>\n",
       "      <td>NaN</td>\n",
       "      <td>NaN</td>\n",
       "      <td>NaN</td>\n",
       "      <td>NaN</td>\n",
       "    </tr>\n",
       "    <tr>\n",
       "      <th>75%</th>\n",
       "      <td>1.648698e+06</td>\n",
       "      <td>NaN</td>\n",
       "      <td>7.929000e+01</td>\n",
       "      <td>NaN</td>\n",
       "      <td>NaN</td>\n",
       "      <td>NaN</td>\n",
       "      <td>NaN</td>\n",
       "      <td>NaN</td>\n",
       "    </tr>\n",
       "    <tr>\n",
       "      <th>max</th>\n",
       "      <td>2.198264e+06</td>\n",
       "      <td>NaN</td>\n",
       "      <td>9.090909e+07</td>\n",
       "      <td>NaN</td>\n",
       "      <td>NaN</td>\n",
       "      <td>NaN</td>\n",
       "      <td>NaN</td>\n",
       "      <td>NaN</td>\n",
       "    </tr>\n",
       "  </tbody>\n",
       "</table>\n",
       "</div>"
      ],
      "text/plain": [
       "          Unnamed: 0                date_tech   boeking_eur is_blacklist  \\\n",
       "count   2.198265e+06                  2198265  2.198265e+06      2198265   \n",
       "unique           NaN                      794           NaN            2   \n",
       "top              NaN  2019-10-28 00:00:00.000           NaN        False   \n",
       "freq             NaN                    88343           NaN      2180140   \n",
       "mean    1.099132e+06                      NaN  6.018905e+01          NaN   \n",
       "std     6.345846e+05                      NaN  1.707733e+05          NaN   \n",
       "min     0.000000e+00                      NaN -4.566600e+07          NaN   \n",
       "25%     5.495660e+05                      NaN -2.102400e+02          NaN   \n",
       "50%     1.099132e+06                      NaN -2.409000e+01          NaN   \n",
       "75%     1.648698e+06                      NaN  7.929000e+01          NaN   \n",
       "max     2.198264e+06                      NaN  9.090909e+07          NaN   \n",
       "\n",
       "       is_redlist is_whitelist    a_key    b_key  \n",
       "count     2198265      2198265  2198265  2198265  \n",
       "unique          2            2    49838   418236  \n",
       "top         False        False   A40734  B401552  \n",
       "freq      2197961      2198255    32539    81923  \n",
       "mean          NaN          NaN      NaN      NaN  \n",
       "std           NaN          NaN      NaN      NaN  \n",
       "min           NaN          NaN      NaN      NaN  \n",
       "25%           NaN          NaN      NaN      NaN  \n",
       "50%           NaN          NaN      NaN      NaN  \n",
       "75%           NaN          NaN      NaN      NaN  \n",
       "max           NaN          NaN      NaN      NaN  "
      ]
     },
     "execution_count": 2,
     "metadata": {},
     "output_type": "execute_result"
    }
   ],
   "source": [
    "df_raw=pd.read_csv('../data/anonymus_data.csv')\n",
    "df_raw.describe(include='all')"
   ]
  },
  {
   "cell_type": "code",
   "execution_count": 3,
   "metadata": {},
   "outputs": [
    {
     "data": {
      "text/html": [
       "<div>\n",
       "<style scoped>\n",
       "    .dataframe tbody tr th:only-of-type {\n",
       "        vertical-align: middle;\n",
       "    }\n",
       "\n",
       "    .dataframe tbody tr th {\n",
       "        vertical-align: top;\n",
       "    }\n",
       "\n",
       "    .dataframe thead th {\n",
       "        text-align: right;\n",
       "    }\n",
       "</style>\n",
       "<table border=\"1\" class=\"dataframe\">\n",
       "  <thead>\n",
       "    <tr style=\"text-align: right;\">\n",
       "      <th></th>\n",
       "      <th>date_tech</th>\n",
       "      <th>boeking_eur</th>\n",
       "      <th>is_blacklist</th>\n",
       "      <th>is_redlist</th>\n",
       "      <th>is_whitelist</th>\n",
       "      <th>a_key</th>\n",
       "      <th>b_key</th>\n",
       "    </tr>\n",
       "  </thead>\n",
       "  <tbody>\n",
       "    <tr>\n",
       "      <th>0</th>\n",
       "      <td>2019-09-02 00:00:00.000</td>\n",
       "      <td>-8225.21</td>\n",
       "      <td>False</td>\n",
       "      <td>False</td>\n",
       "      <td>False</td>\n",
       "      <td>A11526</td>\n",
       "      <td>B15942</td>\n",
       "    </tr>\n",
       "    <tr>\n",
       "      <th>1</th>\n",
       "      <td>2019-09-02 00:00:00.000</td>\n",
       "      <td>-4.95</td>\n",
       "      <td>False</td>\n",
       "      <td>False</td>\n",
       "      <td>False</td>\n",
       "      <td>A43154</td>\n",
       "      <td>B26295</td>\n",
       "    </tr>\n",
       "    <tr>\n",
       "      <th>2</th>\n",
       "      <td>2019-09-02 00:00:00.000</td>\n",
       "      <td>-110.00</td>\n",
       "      <td>False</td>\n",
       "      <td>False</td>\n",
       "      <td>False</td>\n",
       "      <td>A20807</td>\n",
       "      <td>B400347</td>\n",
       "    </tr>\n",
       "    <tr>\n",
       "      <th>3</th>\n",
       "      <td>2019-09-02 00:00:00.000</td>\n",
       "      <td>10100.00</td>\n",
       "      <td>False</td>\n",
       "      <td>False</td>\n",
       "      <td>False</td>\n",
       "      <td>A41952</td>\n",
       "      <td>B96395</td>\n",
       "    </tr>\n",
       "    <tr>\n",
       "      <th>4</th>\n",
       "      <td>2019-09-02 00:00:00.000</td>\n",
       "      <td>-3255.97</td>\n",
       "      <td>False</td>\n",
       "      <td>False</td>\n",
       "      <td>False</td>\n",
       "      <td>A34940</td>\n",
       "      <td>B11390</td>\n",
       "    </tr>\n",
       "    <tr>\n",
       "      <th>...</th>\n",
       "      <td>...</td>\n",
       "      <td>...</td>\n",
       "      <td>...</td>\n",
       "      <td>...</td>\n",
       "      <td>...</td>\n",
       "      <td>...</td>\n",
       "      <td>...</td>\n",
       "    </tr>\n",
       "    <tr>\n",
       "      <th>2198260</th>\n",
       "      <td>2019-11-22 00:00:00.000</td>\n",
       "      <td>-3006.85</td>\n",
       "      <td>False</td>\n",
       "      <td>False</td>\n",
       "      <td>False</td>\n",
       "      <td>A28017</td>\n",
       "      <td>B33145</td>\n",
       "    </tr>\n",
       "    <tr>\n",
       "      <th>2198261</th>\n",
       "      <td>2019-11-25 00:00:00.000</td>\n",
       "      <td>118.00</td>\n",
       "      <td>False</td>\n",
       "      <td>False</td>\n",
       "      <td>False</td>\n",
       "      <td>A40734</td>\n",
       "      <td>B60395</td>\n",
       "    </tr>\n",
       "    <tr>\n",
       "      <th>2198262</th>\n",
       "      <td>2019-11-25 00:00:00.000</td>\n",
       "      <td>24.80</td>\n",
       "      <td>False</td>\n",
       "      <td>False</td>\n",
       "      <td>False</td>\n",
       "      <td>A49318</td>\n",
       "      <td>B275357</td>\n",
       "    </tr>\n",
       "    <tr>\n",
       "      <th>2198263</th>\n",
       "      <td>2019-11-27 00:00:00.000</td>\n",
       "      <td>-21.30</td>\n",
       "      <td>False</td>\n",
       "      <td>False</td>\n",
       "      <td>False</td>\n",
       "      <td>A40734</td>\n",
       "      <td>B374463</td>\n",
       "    </tr>\n",
       "    <tr>\n",
       "      <th>2198264</th>\n",
       "      <td>2019-11-28 00:00:00.000</td>\n",
       "      <td>-300.00</td>\n",
       "      <td>False</td>\n",
       "      <td>False</td>\n",
       "      <td>False</td>\n",
       "      <td>A40734</td>\n",
       "      <td>B209193</td>\n",
       "    </tr>\n",
       "  </tbody>\n",
       "</table>\n",
       "<p>2198265 rows × 7 columns</p>\n",
       "</div>"
      ],
      "text/plain": [
       "                       date_tech  boeking_eur  is_blacklist  is_redlist  \\\n",
       "0        2019-09-02 00:00:00.000     -8225.21         False       False   \n",
       "1        2019-09-02 00:00:00.000        -4.95         False       False   \n",
       "2        2019-09-02 00:00:00.000      -110.00         False       False   \n",
       "3        2019-09-02 00:00:00.000     10100.00         False       False   \n",
       "4        2019-09-02 00:00:00.000     -3255.97         False       False   \n",
       "...                          ...          ...           ...         ...   \n",
       "2198260  2019-11-22 00:00:00.000     -3006.85         False       False   \n",
       "2198261  2019-11-25 00:00:00.000       118.00         False       False   \n",
       "2198262  2019-11-25 00:00:00.000        24.80         False       False   \n",
       "2198263  2019-11-27 00:00:00.000       -21.30         False       False   \n",
       "2198264  2019-11-28 00:00:00.000      -300.00         False       False   \n",
       "\n",
       "         is_whitelist   a_key    b_key  \n",
       "0               False  A11526   B15942  \n",
       "1               False  A43154   B26295  \n",
       "2               False  A20807  B400347  \n",
       "3               False  A41952   B96395  \n",
       "4               False  A34940   B11390  \n",
       "...               ...     ...      ...  \n",
       "2198260         False  A28017   B33145  \n",
       "2198261         False  A40734   B60395  \n",
       "2198262         False  A49318  B275357  \n",
       "2198263         False  A40734  B374463  \n",
       "2198264         False  A40734  B209193  \n",
       "\n",
       "[2198265 rows x 7 columns]"
      ]
     },
     "execution_count": 3,
     "metadata": {},
     "output_type": "execute_result"
    }
   ],
   "source": [
    "df=df_raw.drop(columns='Unnamed: 0')\n",
    "df"
   ]
  },
  {
   "cell_type": "markdown",
   "metadata": {},
   "source": [
    "## Questions about blacklist,redlist,whitelist meaning"
   ]
  },
  {
   "cell_type": "markdown",
   "metadata": {},
   "source": [
    "### Assumptions about whitelist meaning:\n",
    "1. if blacklist is True, whitelist refers to B account\n",
    "2. if redlist is True, whitelist refers to A account\n",
    "3. if both are False, whitelist refers to both accounts"
   ]
  },
  {
   "cell_type": "code",
   "execution_count": 4,
   "metadata": {},
   "outputs": [
    {
     "data": {
      "text/html": [
       "<div>\n",
       "<style scoped>\n",
       "    .dataframe tbody tr th:only-of-type {\n",
       "        vertical-align: middle;\n",
       "    }\n",
       "\n",
       "    .dataframe tbody tr th {\n",
       "        vertical-align: top;\n",
       "    }\n",
       "\n",
       "    .dataframe thead th {\n",
       "        text-align: right;\n",
       "    }\n",
       "</style>\n",
       "<table border=\"1\" class=\"dataframe\">\n",
       "  <thead>\n",
       "    <tr style=\"text-align: right;\">\n",
       "      <th></th>\n",
       "      <th>date_tech</th>\n",
       "      <th>is_blacklist</th>\n",
       "      <th>is_redlist</th>\n",
       "      <th>is_whitelist</th>\n",
       "      <th>a_key</th>\n",
       "      <th>b_key</th>\n",
       "    </tr>\n",
       "  </thead>\n",
       "  <tbody>\n",
       "    <tr>\n",
       "      <th>count</th>\n",
       "      <td>10</td>\n",
       "      <td>10</td>\n",
       "      <td>10</td>\n",
       "      <td>10</td>\n",
       "      <td>10</td>\n",
       "      <td>10</td>\n",
       "    </tr>\n",
       "    <tr>\n",
       "      <th>unique</th>\n",
       "      <td>8</td>\n",
       "      <td>1</td>\n",
       "      <td>1</td>\n",
       "      <td>1</td>\n",
       "      <td>7</td>\n",
       "      <td>5</td>\n",
       "    </tr>\n",
       "    <tr>\n",
       "      <th>top</th>\n",
       "      <td>2019-11-29 17:05:12.000</td>\n",
       "      <td>False</td>\n",
       "      <td>False</td>\n",
       "      <td>True</td>\n",
       "      <td>A14028</td>\n",
       "      <td>B350370</td>\n",
       "    </tr>\n",
       "    <tr>\n",
       "      <th>freq</th>\n",
       "      <td>2</td>\n",
       "      <td>10</td>\n",
       "      <td>10</td>\n",
       "      <td>10</td>\n",
       "      <td>3</td>\n",
       "      <td>5</td>\n",
       "    </tr>\n",
       "  </tbody>\n",
       "</table>\n",
       "</div>"
      ],
      "text/plain": [
       "                      date_tech is_blacklist is_redlist is_whitelist   a_key  \\\n",
       "count                        10           10         10           10      10   \n",
       "unique                        8            1          1            1       7   \n",
       "top     2019-11-29 17:05:12.000        False      False         True  A14028   \n",
       "freq                          2           10         10           10       3   \n",
       "\n",
       "          b_key  \n",
       "count        10  \n",
       "unique        5  \n",
       "top     B350370  \n",
       "freq          5  "
      ]
     },
     "execution_count": 4,
     "metadata": {},
     "output_type": "execute_result"
    }
   ],
   "source": [
    "df_white=df[df.is_whitelist]\n",
    "df_white.describe(include=[np.object,np.bool])"
   ]
  },
  {
   "cell_type": "markdown",
   "metadata": {},
   "source": [
    "only 7 accounts are whitelisted (10 transactions)"
   ]
  },
  {
   "cell_type": "markdown",
   "metadata": {},
   "source": [
    "Assumptiom assessment:\n",
    "1. does not matter. no such example in our data\n",
    "2. does not matter. no such example in our data\n",
    "3. confirmed (black and red in the above dataframe have False as unique value)"
   ]
  },
  {
   "cell_type": "markdown",
   "metadata": {},
   "source": [
    "idea: ignore is_whitelist column"
   ]
  },
  {
   "cell_type": "markdown",
   "metadata": {},
   "source": [
    "## Blacklist exploration"
   ]
  },
  {
   "cell_type": "code",
   "execution_count": 5,
   "metadata": {},
   "outputs": [
    {
     "data": {
      "text/html": [
       "<div>\n",
       "<style scoped>\n",
       "    .dataframe tbody tr th:only-of-type {\n",
       "        vertical-align: middle;\n",
       "    }\n",
       "\n",
       "    .dataframe tbody tr th {\n",
       "        vertical-align: top;\n",
       "    }\n",
       "\n",
       "    .dataframe thead th {\n",
       "        text-align: right;\n",
       "    }\n",
       "</style>\n",
       "<table border=\"1\" class=\"dataframe\">\n",
       "  <thead>\n",
       "    <tr style=\"text-align: right;\">\n",
       "      <th></th>\n",
       "      <th>date_tech</th>\n",
       "      <th>is_blacklist</th>\n",
       "      <th>is_redlist</th>\n",
       "      <th>is_whitelist</th>\n",
       "      <th>a_key</th>\n",
       "      <th>b_key</th>\n",
       "    </tr>\n",
       "  </thead>\n",
       "  <tbody>\n",
       "    <tr>\n",
       "      <th>count</th>\n",
       "      <td>18125</td>\n",
       "      <td>18125</td>\n",
       "      <td>18125</td>\n",
       "      <td>18125</td>\n",
       "      <td>18125</td>\n",
       "      <td>18125</td>\n",
       "    </tr>\n",
       "    <tr>\n",
       "      <th>unique</th>\n",
       "      <td>67</td>\n",
       "      <td>1</td>\n",
       "      <td>2</td>\n",
       "      <td>1</td>\n",
       "      <td>91</td>\n",
       "      <td>9192</td>\n",
       "    </tr>\n",
       "    <tr>\n",
       "      <th>top</th>\n",
       "      <td>2019-10-15 00:00:00.000</td>\n",
       "      <td>True</td>\n",
       "      <td>False</td>\n",
       "      <td>False</td>\n",
       "      <td>A27913</td>\n",
       "      <td>B401552</td>\n",
       "    </tr>\n",
       "    <tr>\n",
       "      <th>freq</th>\n",
       "      <td>2157</td>\n",
       "      <td>18125</td>\n",
       "      <td>18120</td>\n",
       "      <td>18125</td>\n",
       "      <td>10954</td>\n",
       "      <td>167</td>\n",
       "    </tr>\n",
       "  </tbody>\n",
       "</table>\n",
       "</div>"
      ],
      "text/plain": [
       "                      date_tech is_blacklist is_redlist is_whitelist   a_key  \\\n",
       "count                     18125        18125      18125        18125   18125   \n",
       "unique                       67            1          2            1      91   \n",
       "top     2019-10-15 00:00:00.000         True      False        False  A27913   \n",
       "freq                       2157        18125      18120        18125   10954   \n",
       "\n",
       "          b_key  \n",
       "count     18125  \n",
       "unique     9192  \n",
       "top     B401552  \n",
       "freq        167  "
      ]
     },
     "execution_count": 5,
     "metadata": {},
     "output_type": "execute_result"
    }
   ],
   "source": [
    "df_black=df[df.is_blacklist]\n",
    "df_black.describe(include=[np.object,np.bool])"
   ]
  },
  {
   "cell_type": "markdown",
   "metadata": {},
   "source": [
    "## Redlist exploration"
   ]
  },
  {
   "cell_type": "markdown",
   "metadata": {},
   "source": [
    "91 unique blacklisted A accounts (18125 transactions)"
   ]
  },
  {
   "cell_type": "code",
   "execution_count": 6,
   "metadata": {},
   "outputs": [
    {
     "data": {
      "text/html": [
       "<div>\n",
       "<style scoped>\n",
       "    .dataframe tbody tr th:only-of-type {\n",
       "        vertical-align: middle;\n",
       "    }\n",
       "\n",
       "    .dataframe tbody tr th {\n",
       "        vertical-align: top;\n",
       "    }\n",
       "\n",
       "    .dataframe thead th {\n",
       "        text-align: right;\n",
       "    }\n",
       "</style>\n",
       "<table border=\"1\" class=\"dataframe\">\n",
       "  <thead>\n",
       "    <tr style=\"text-align: right;\">\n",
       "      <th></th>\n",
       "      <th>date_tech</th>\n",
       "      <th>is_blacklist</th>\n",
       "      <th>is_redlist</th>\n",
       "      <th>is_whitelist</th>\n",
       "      <th>a_key</th>\n",
       "      <th>b_key</th>\n",
       "    </tr>\n",
       "  </thead>\n",
       "  <tbody>\n",
       "    <tr>\n",
       "      <th>count</th>\n",
       "      <td>304</td>\n",
       "      <td>304</td>\n",
       "      <td>304</td>\n",
       "      <td>304</td>\n",
       "      <td>304</td>\n",
       "      <td>304</td>\n",
       "    </tr>\n",
       "    <tr>\n",
       "      <th>unique</th>\n",
       "      <td>61</td>\n",
       "      <td>2</td>\n",
       "      <td>1</td>\n",
       "      <td>1</td>\n",
       "      <td>139</td>\n",
       "      <td>12</td>\n",
       "    </tr>\n",
       "    <tr>\n",
       "      <th>top</th>\n",
       "      <td>2019-10-30 00:00:00.000</td>\n",
       "      <td>False</td>\n",
       "      <td>True</td>\n",
       "      <td>False</td>\n",
       "      <td>A40734</td>\n",
       "      <td>B112486</td>\n",
       "    </tr>\n",
       "    <tr>\n",
       "      <th>freq</th>\n",
       "      <td>12</td>\n",
       "      <td>299</td>\n",
       "      <td>304</td>\n",
       "      <td>304</td>\n",
       "      <td>64</td>\n",
       "      <td>68</td>\n",
       "    </tr>\n",
       "  </tbody>\n",
       "</table>\n",
       "</div>"
      ],
      "text/plain": [
       "                      date_tech is_blacklist is_redlist is_whitelist   a_key  \\\n",
       "count                       304          304        304          304     304   \n",
       "unique                       61            2          1            1     139   \n",
       "top     2019-10-30 00:00:00.000        False       True        False  A40734   \n",
       "freq                         12          299        304          304      64   \n",
       "\n",
       "          b_key  \n",
       "count       304  \n",
       "unique       12  \n",
       "top     B112486  \n",
       "freq         68  "
      ]
     },
     "execution_count": 6,
     "metadata": {},
     "output_type": "execute_result"
    }
   ],
   "source": [
    "df_red=df[df.is_redlist]\n",
    "df_red.describe(include=[np.object,np.bool])"
   ]
  },
  {
   "cell_type": "markdown",
   "metadata": {},
   "source": [
    "12 unique redlisted accounts (only 304 transactions)"
   ]
  },
  {
   "cell_type": "markdown",
   "metadata": {},
   "source": [
    "## Black <-> Red combination"
   ]
  },
  {
   "cell_type": "code",
   "execution_count": 7,
   "metadata": {},
   "outputs": [
    {
     "data": {
      "text/html": [
       "<div>\n",
       "<style scoped>\n",
       "    .dataframe tbody tr th:only-of-type {\n",
       "        vertical-align: middle;\n",
       "    }\n",
       "\n",
       "    .dataframe tbody tr th {\n",
       "        vertical-align: top;\n",
       "    }\n",
       "\n",
       "    .dataframe thead th {\n",
       "        text-align: right;\n",
       "    }\n",
       "</style>\n",
       "<table border=\"1\" class=\"dataframe\">\n",
       "  <thead>\n",
       "    <tr style=\"text-align: right;\">\n",
       "      <th></th>\n",
       "      <th>date_tech</th>\n",
       "      <th>is_blacklist</th>\n",
       "      <th>is_redlist</th>\n",
       "      <th>is_whitelist</th>\n",
       "      <th>a_key</th>\n",
       "      <th>b_key</th>\n",
       "    </tr>\n",
       "  </thead>\n",
       "  <tbody>\n",
       "    <tr>\n",
       "      <th>count</th>\n",
       "      <td>5</td>\n",
       "      <td>5</td>\n",
       "      <td>5</td>\n",
       "      <td>5</td>\n",
       "      <td>5</td>\n",
       "      <td>5</td>\n",
       "    </tr>\n",
       "    <tr>\n",
       "      <th>unique</th>\n",
       "      <td>5</td>\n",
       "      <td>1</td>\n",
       "      <td>1</td>\n",
       "      <td>1</td>\n",
       "      <td>2</td>\n",
       "      <td>2</td>\n",
       "    </tr>\n",
       "    <tr>\n",
       "      <th>top</th>\n",
       "      <td>2019-10-17 00:00:00.000</td>\n",
       "      <td>True</td>\n",
       "      <td>True</td>\n",
       "      <td>False</td>\n",
       "      <td>A30983</td>\n",
       "      <td>B123084</td>\n",
       "    </tr>\n",
       "    <tr>\n",
       "      <th>freq</th>\n",
       "      <td>1</td>\n",
       "      <td>5</td>\n",
       "      <td>5</td>\n",
       "      <td>5</td>\n",
       "      <td>4</td>\n",
       "      <td>4</td>\n",
       "    </tr>\n",
       "  </tbody>\n",
       "</table>\n",
       "</div>"
      ],
      "text/plain": [
       "                      date_tech is_blacklist is_redlist is_whitelist   a_key  \\\n",
       "count                         5            5          5            5       5   \n",
       "unique                        5            1          1            1       2   \n",
       "top     2019-10-17 00:00:00.000         True       True        False  A30983   \n",
       "freq                          1            5          5            5       4   \n",
       "\n",
       "          b_key  \n",
       "count         5  \n",
       "unique        2  \n",
       "top     B123084  \n",
       "freq          4  "
      ]
     },
     "execution_count": 7,
     "metadata": {},
     "output_type": "execute_result"
    }
   ],
   "source": [
    "df_black_red=df[df.is_blacklist & df.is_redlist]\n",
    "df_black_red.describe(include=[np.object,np.bool])"
   ]
  },
  {
   "cell_type": "markdown",
   "metadata": {},
   "source": [
    "2 unique accounts involved in direct suspicious transactions (black<->red)"
   ]
  },
  {
   "cell_type": "markdown",
   "metadata": {},
   "source": [
    "### Overview of above results"
   ]
  },
  {
   "cell_type": "code",
   "execution_count": 8,
   "metadata": {},
   "outputs": [],
   "source": [
    "size_df=df.groupby(['is_blacklist','is_redlist']).size().to_frame('size')\n",
    "nuniqueA_df=df.groupby(['is_blacklist','is_redlist']).a_key.nunique().to_frame('nunique A')\n",
    "nuniquaB_df=df.groupby(['is_blacklist','is_redlist']).b_key.nunique().to_frame('nunique B')"
   ]
  },
  {
   "cell_type": "code",
   "execution_count": 9,
   "metadata": {},
   "outputs": [
    {
     "data": {
      "text/html": [
       "<div>\n",
       "<style scoped>\n",
       "    .dataframe tbody tr th:only-of-type {\n",
       "        vertical-align: middle;\n",
       "    }\n",
       "\n",
       "    .dataframe tbody tr th {\n",
       "        vertical-align: top;\n",
       "    }\n",
       "\n",
       "    .dataframe thead th {\n",
       "        text-align: right;\n",
       "    }\n",
       "</style>\n",
       "<table border=\"1\" class=\"dataframe\">\n",
       "  <thead>\n",
       "    <tr style=\"text-align: right;\">\n",
       "      <th></th>\n",
       "      <th></th>\n",
       "      <th>size</th>\n",
       "      <th>nunique A</th>\n",
       "      <th>nunique B</th>\n",
       "    </tr>\n",
       "    <tr>\n",
       "      <th>is_blacklist</th>\n",
       "      <th>is_redlist</th>\n",
       "      <th></th>\n",
       "      <th></th>\n",
       "      <th></th>\n",
       "    </tr>\n",
       "  </thead>\n",
       "  <tbody>\n",
       "    <tr>\n",
       "      <th rowspan=\"2\" valign=\"top\">False</th>\n",
       "      <th>False</th>\n",
       "      <td>2179841</td>\n",
       "      <td>49747</td>\n",
       "      <td>410372</td>\n",
       "    </tr>\n",
       "    <tr>\n",
       "      <th>True</th>\n",
       "      <td>299</td>\n",
       "      <td>137</td>\n",
       "      <td>12</td>\n",
       "    </tr>\n",
       "    <tr>\n",
       "      <th rowspan=\"2\" valign=\"top\">True</th>\n",
       "      <th>False</th>\n",
       "      <td>18120</td>\n",
       "      <td>91</td>\n",
       "      <td>9190</td>\n",
       "    </tr>\n",
       "    <tr>\n",
       "      <th>True</th>\n",
       "      <td>5</td>\n",
       "      <td>2</td>\n",
       "      <td>2</td>\n",
       "    </tr>\n",
       "  </tbody>\n",
       "</table>\n",
       "</div>"
      ],
      "text/plain": [
       "                            size  nunique A  nunique B\n",
       "is_blacklist is_redlist                               \n",
       "False        False       2179841      49747     410372\n",
       "             True            299        137         12\n",
       "True         False         18120         91       9190\n",
       "             True              5          2          2"
      ]
     },
     "execution_count": 9,
     "metadata": {},
     "output_type": "execute_result"
    }
   ],
   "source": [
    "pd.concat([size_df,nuniqueA_df,nuniquaB_df], axis=1, sort=False)"
   ]
  },
  {
   "cell_type": "markdown",
   "metadata": {},
   "source": [
    "## Explore transactions of blacklisted accounts that have direct link with redlisted accounts"
   ]
  },
  {
   "cell_type": "code",
   "execution_count": 10,
   "metadata": {},
   "outputs": [],
   "source": [
    "# find transactions for badguy1\n",
    "badguy1=df_black_red.a_key.unique()[0]\n",
    "badguy1_transactions=df[df.a_key==badguy1]\n",
    "badguy1_transactions_dateindexed=badguy1_transactions[['date_tech','boeking_eur']].set_index('date_tech')\n",
    "# find transactions for badguy2\n",
    "badguy2=df_black_red.a_key.unique()[1]\n",
    "badguy2_transactions=df[df.a_key==badguy2]\n",
    "badguy2_transactions_dateindexed=badguy2_transactions[['date_tech','boeking_eur']].set_index('date_tech')"
   ]
  },
  {
   "cell_type": "code",
   "execution_count": 23,
   "metadata": {},
   "outputs": [
    {
     "name": "stdout",
     "output_type": "stream",
     "text": [
      "Using matplotlib backend: Qt5Agg\n"
     ]
    }
   ],
   "source": [
    "%matplotlib\n",
    "import matplotlib.pyplot as plt\n",
    "import matplotlib.dates as mdates\n",
    "\n",
    "# plot transactions\n",
    "fig,ax=plt.subplots(nrows=2,sharex=True)\n",
    "markerline, stemline, baseline = ax[0].stem('date_tech', 'boeking_eur',data=badguy1_transactions,\n",
    "                                         linefmt=\"C3-\", basefmt=\"k-\",\n",
    "                                         use_line_collection=True)\n",
    "\n",
    "\n",
    "markerline, stemline, baseline = ax[1].stem('date_tech', 'boeking_eur',data=badguy2_transactions,\n",
    "                                         linefmt=\"C3-\", basefmt=\"k-\",\n",
    "                                         use_line_collection=True)\n",
    "ax[0].format_xdata = mdates.DateFormatter('%d-%m-%Y')\n",
    "fig.autofmt_xdate()\n"
   ]
  },
  {
   "cell_type": "code",
   "execution_count": 12,
   "metadata": {},
   "outputs": [
    {
     "data": {
      "image/png": "[encoded data removed]",
      "text/plain": [
       "<Figure size 432x288 with 1 Axes>"
      ]
     },
     "metadata": {
      "needs_background": "light"
     },
     "output_type": "display_data"
    }
   ],
   "source": [
    "ax=badguy1_transactions_dateindexed.plot()"
   ]
  },
  {
   "cell_type": "markdown",
   "metadata": {},
   "source": [
    "## Questions about A,B accounts"
   ]
  },
  {
   "cell_type": "markdown",
   "metadata": {},
   "source": [
    "How can we see if a b_key refers to an internal account?"
   ]
  },
  {
   "cell_type": "markdown",
   "metadata": {},
   "source": [
    "If a b_key refers to an internal account, can that account be also refered to by an a_key in the dataset?"
   ]
  },
  {
   "cell_type": "markdown",
   "metadata": {},
   "source": [
    "## Explore the most suspicious A account"
   ]
  },
  {
   "cell_type": "code",
   "execution_count": 13,
   "metadata": {},
   "outputs": [
    {
     "data": {
      "text/plain": [
       "array(['A44266', 'A33488', 'A27913', 'A5443', 'A39805', 'A34184',\n",
       "       'A12194', 'A16905', 'A4938', 'A45254', 'A7819', 'A19081', 'A3158',\n",
       "       'A18614', 'A8667', 'A7133', 'A17981', 'A11558', 'A7728', 'A36531',\n",
       "       'A43027', 'A22195', 'A17601', 'A40134', 'A3027', 'A19088',\n",
       "       'A22656', 'A11868', 'A30983', 'A29283', 'A34665', 'A9580',\n",
       "       'A32700', 'A21758', 'A20708', 'A594', 'A32160', 'A15517', 'A2994',\n",
       "       'A34437', 'A7450', 'A45176', 'A25525', 'A16250', 'A27493', 'A7950',\n",
       "       'A41470', 'A2970', 'A13587', 'A34396', 'A30147', 'A20231', 'A8243',\n",
       "       'A10591', 'A34789', 'A23320', 'A1254', 'A14689', 'A25072', 'A8030',\n",
       "       'A98', 'A13779', 'A10055', 'A1654', 'A4102', 'A31335', 'A38379',\n",
       "       'A11825', 'A303', 'A497', 'A36927', 'A20247', 'A46865', 'A26873',\n",
       "       'A16741', 'A6046', 'A19602', 'A23462', 'A48017', 'A12052',\n",
       "       'A30607', 'A44366', 'A46589', 'A6182', 'A6786', 'A26350', 'A18618',\n",
       "       'A8650', 'A48026', 'A4568', 'A42506'], dtype=object)"
      ]
     },
     "execution_count": 13,
     "metadata": {},
     "output_type": "execute_result"
    }
   ],
   "source": [
    "blacklist=df_black.a_key.unique()\n",
    "blacklist"
   ]
  },
  {
   "cell_type": "code",
   "execution_count": null,
   "metadata": {},
   "outputs": [],
   "source": []
  }
 ],
 "metadata": {
  "kernelspec": {
   "display_name": "Python 3",
   "language": "python",
   "name": "python3"
  },
  "language_info": {
   "codemirror_mode": {
    "name": "ipython",
    "version": 3
   },
   "file_extension": ".py",
   "mimetype": "text/x-python",
   "name": "python",
   "nbconvert_exporter": "python",
   "pygments_lexer": "ipython3",
   "version": "3.7.4"
  }
 },
 "nbformat": 4,
 "nbformat_minor": 4
}
